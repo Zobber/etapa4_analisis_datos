{
 "cells": [
  {
   "cell_type": "code",
   "execution_count": 5,
   "metadata": {},
   "outputs": [
    {
     "name": "stdout",
     "output_type": "stream",
     "text": [
      "Precisión del modelo: 1.00\n"
     ]
    },
    {
     "data": {
      "text/plain": [
       "'decision_tree.pdf'"
      ]
     },
     "execution_count": 5,
     "metadata": {},
     "output_type": "execute_result"
    }
   ],
   "source": [
    "# Importar bibliotecas necesarias\n",
    "import pandas as pd\n",
    "from sklearn.model_selection import train_test_split\n",
    "from sklearn.tree import DecisionTreeClassifier, export_text, export_graphviz\n",
    "import graphviz\n",
    "\n",
    "# Leer el dataset desde el archivo CSV\n",
    "df = pd.read_csv('Cleaned-Data.csv')\n",
    "\n",
    "# Convertir la columna 'Country' en variables dummy\n",
    "df = pd.get_dummies(df, columns=['Country'])\n",
    "\n",
    "# Dividir el conjunto de datos en características (X) y etiquetas (y)\n",
    "X = df.drop('Gender_Male', axis=1)  # Cambiar a la columna a predecir\n",
    "y = df['Gender_Male']\n",
    "\n",
    "# Dividir el conjunto de datos en entrenamiento y prueba\n",
    "X_train, X_test, y_train, y_test = train_test_split(X, y, test_size=0.2, random_state=42)\n",
    "\n",
    "# Crear el clasificador de árbol de decisiones\n",
    "clf = DecisionTreeClassifier()\n",
    "\n",
    "# Entrenar el clasificador\n",
    "clf.fit(X_train, y_train)\n",
    "\n",
    "# Evaluar la precisión en el conjunto de prueba\n",
    "accuracy = clf.score(X_test, y_test)\n",
    "print(f'Precisión del modelo: {accuracy:.2f}')\n",
    "\n",
    "# Visualizar el árbol de decisiones de manera gráfica con graphviz\n",
    "dot_data = export_graphviz(clf, out_file=None, feature_names=list(X.columns), class_names=['Not Severe', 'Severe'], filled=True, rounded=True, special_characters=True)\n",
    "graph = graphviz.Source(dot_data)\n",
    "graph.render(\"decision_tree\")  # Generar archivo pdf con la grafica\n",
    "\n",
    "# Generar grafico\n",
    "graph.view(\"decision_tree\")\n"
   ]
  }
 ],
 "metadata": {
  "kernelspec": {
   "display_name": "Python 3",
   "language": "python",
   "name": "python3"
  },
  "language_info": {
   "codemirror_mode": {
    "name": "ipython",
    "version": 3
   },
   "file_extension": ".py",
   "mimetype": "text/x-python",
   "name": "python",
   "nbconvert_exporter": "python",
   "pygments_lexer": "ipython3",
   "version": "3.9.10"
  },
  "orig_nbformat": 4
 },
 "nbformat": 4,
 "nbformat_minor": 2
}
